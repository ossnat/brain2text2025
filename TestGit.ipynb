{
  "nbformat": 4,
  "nbformat_minor": 0,
  "metadata": {
    "colab": {
      "provenance": [],
      "authorship_tag": "ABX9TyNN8bdd2Q5pEOJuXhdUBPut",
      "include_colab_link": true
    },
    "kernelspec": {
      "name": "python3",
      "display_name": "Python 3"
    },
    "language_info": {
      "name": "python"
    }
  },
  "cells": [
    {
      "cell_type": "markdown",
      "metadata": {
        "id": "view-in-github",
        "colab_type": "text"
      },
      "source": [
        "<a href=\"https://colab.research.google.com/github/ossnat/brain2text2025/blob/main/TestGit.ipynb\" target=\"_parent\"><img src=\"https://colab.research.google.com/assets/colab-badge.svg\" alt=\"Open In Colab\"/></a>"
      ]
    },
    {
      "cell_type": "code",
      "execution_count": 1,
      "metadata": {
        "colab": {
          "base_uri": "https://localhost:8080/"
        },
        "id": "v7I07z_zMK6d",
        "outputId": "fd6534c3-976f-4141-e618-1a9072a179d3"
      },
      "outputs": [
        {
          "output_type": "stream",
          "name": "stdout",
          "text": [
            "git version 2.34.1\n"
          ]
        }
      ],
      "source": [
        "# %pip install -r https://raw.githubusercontent.com/YOURUSER/YOURREPO/main/requirements.txt\n",
        "from google.colab import drive\n",
        "# drive.mount('/content/drive')  # optional\n",
        "\n",
        "import sys\n",
        "!git --version"
      ]
    },
    {
      "cell_type": "code",
      "source": [],
      "metadata": {
        "id": "GeAqV-UlMNhJ"
      },
      "execution_count": null,
      "outputs": []
    }
  ]
}